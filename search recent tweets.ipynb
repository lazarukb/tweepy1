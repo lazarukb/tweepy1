{
 "cells": [
  {
   "cell_type": "code",
   "execution_count": 1,
   "id": "bb7a9932",
   "metadata": {},
   "outputs": [
    {
     "name": "stdout",
     "output_type": "stream",
     "text": [
      "Requirement already satisfied: tweepy in c:\\users\\brad\\anaconda3\\envs\\tweepy\\lib\\site-packages (from -r requirements.txt (line 1)) (4.10.0)\n",
      "Requirement already satisfied: python-dotenv in c:\\users\\brad\\anaconda3\\envs\\tweepy\\lib\\site-packages (from -r requirements.txt (line 2)) (0.20.0)\n",
      "Requirement already satisfied: oauthlib<4,>=3.2.0 in c:\\users\\brad\\anaconda3\\envs\\tweepy\\lib\\site-packages (from tweepy->-r requirements.txt (line 1)) (3.2.0)\n",
      "Requirement already satisfied: requests-oauthlib<2,>=1.2.0 in c:\\users\\brad\\anaconda3\\envs\\tweepy\\lib\\site-packages (from tweepy->-r requirements.txt (line 1)) (1.3.1)\n",
      "Requirement already satisfied: requests<3,>=2.27.0 in c:\\users\\brad\\anaconda3\\envs\\tweepy\\lib\\site-packages (from tweepy->-r requirements.txt (line 1)) (2.28.0)\n",
      "Requirement already satisfied: certifi>=2017.4.17 in c:\\users\\brad\\anaconda3\\envs\\tweepy\\lib\\site-packages (from requests<3,>=2.27.0->tweepy->-r requirements.txt (line 1)) (2022.5.18.1)\n",
      "Requirement already satisfied: idna<4,>=2.5 in c:\\users\\brad\\anaconda3\\envs\\tweepy\\lib\\site-packages (from requests<3,>=2.27.0->tweepy->-r requirements.txt (line 1)) (3.3)\n",
      "Requirement already satisfied: charset-normalizer~=2.0.0 in c:\\users\\brad\\anaconda3\\envs\\tweepy\\lib\\site-packages (from requests<3,>=2.27.0->tweepy->-r requirements.txt (line 1)) (2.0.12)\n",
      "Requirement already satisfied: urllib3<1.27,>=1.21.1 in c:\\users\\brad\\anaconda3\\envs\\tweepy\\lib\\site-packages (from requests<3,>=2.27.0->tweepy->-r requirements.txt (line 1)) (1.26.9)\n"
     ]
    }
   ],
   "source": [
    "import sys\n",
    "!{sys.executable} -m pip install -r requirements.txt"
   ]
  },
  {
   "cell_type": "code",
   "execution_count": 2,
   "id": "792725b2",
   "metadata": {},
   "outputs": [],
   "source": [
    "import tweepy"
   ]
  },
  {
   "cell_type": "code",
   "execution_count": 3,
   "id": "3e252bbe",
   "metadata": {},
   "outputs": [],
   "source": [
    "from dotenv import load_dotenv\n",
    "load_dotenv()\n",
    "import os\n",
    "\n",
    "# Your app's bearer token can be found under the Authentication Tokens section\n",
    "# of the Keys and Tokens tab of your app, under the\n",
    "# Twitter Developer Portal Projects & Apps page at\n",
    "# https://developer.twitter.com/en/portal/projects-and-apps\n",
    "my_bearer_token = os.environ.get(\"bearer_token\")\n",
    "\n",
    "# Your app's API/consumer key and secret can be found under the Consumer Keys\n",
    "# section of the Keys and Tokens tab of your app, under the\n",
    "# Twitter Developer Portal Projects & Apps page at\n",
    "# https://developer.twitter.com/en/portal/projects-and-apps\n",
    "my_consumer_key = os.environ.get(\"consumer_key\")\n",
    "my_consumer_secret = os.environ.get(\"consumer_secret\")\n",
    "\n",
    "# Your account's (the app owner's account's) access token and secret for your\n",
    "# app can be found under the Authentication Tokens section of the\n",
    "# Keys and Tokens tab of your app, under the\n",
    "# Twitter Developer Portal Projects & Apps page at\n",
    "# https://developer.twitter.com/en/portal/projects-and-apps\n",
    "my_access_token = os.environ.get(\"access_token\")\n",
    "my_access_token_secret = os.environ.get(\"access_token_secret\")\n",
    "\n",
    "# You can authenticate as your app with just your bearer token\n",
    "#client = tweepy.Client(bearer_token=bearer_token)"
   ]
  },
  {
   "cell_type": "code",
   "execution_count": null,
   "id": "698fa1e4",
   "metadata": {},
   "outputs": [],
   "source": [
    "# You can provide the consumer key and secret with the access token and access\n",
    "# token secret to authenticate as a user\n",
    "#client = tweepy.Client(\n",
    "#    consumer_key=consumer_key, consumer_secret=consumer_secret,\n",
    "#    access_token=access_token, access_token_secret=access_token_secret\n",
    "#)"
   ]
  },
  {
   "cell_type": "code",
   "execution_count": 4,
   "id": "eb638194",
   "metadata": {},
   "outputs": [],
   "source": [
    "# You can provide the consumer key and secret with the access token and access\n",
    "# token secret to authenticate as a user\n",
    "client = tweepy.Client(my_bearer_token)\n",
    "blockClient = tweepy.Client(\n",
    "    consumer_key=my_consumer_key,\n",
    "    consumer_secret=my_consumer_secret,\n",
    "    access_token=my_access_token,\n",
    "    access_token_secret=my_access_token_secret\n",
    ")"
   ]
  },
  {
   "cell_type": "code",
   "execution_count": null,
   "id": "20c1a175",
   "metadata": {},
   "outputs": [],
   "source": []
  },
  {
   "cell_type": "markdown",
   "id": "3226e88f",
   "metadata": {},
   "source": [
    "#### Auth stuff above - try to not rerun it too much"
   ]
  },
  {
   "cell_type": "code",
   "execution_count": 5,
   "id": "16973842",
   "metadata": {},
   "outputs": [
    {
     "name": "stdout",
     "output_type": "stream",
     "text": [
      "{'newest_id': '1535674367207776256', 'oldest_id': '1535674340749914112', 'result_count': 10, 'next_token': 'b26v89c19zqg8o3fpyzmof8cfw908bq5ymwmrylu4aqv1'}\n",
      "1535674367207776256 en\n",
      "RT @DogDeskAction: Beautiful girl Nana is one of our permanent residents due to her #Disability \n",
      "\n",
      "There is no way she would survive on the…\n",
      "1535674366997970947 en\n",
      "RT @therealtaliani1: Uncomfortable conversations make healthy relationships\n",
      "1535674366876610560 en\n",
      "@AirdropDet Very good project..i like your project👍..cheers for the admins☺️✊hope you are always healthy, live long, hope your family is always healthy and hope your project is successful☺️☺️✊🙏\n",
      "@kodiakclose\n",
      " \n",
      "@Amelia99Jones\n",
      " \n",
      "@rinjani0917\n",
      "1535674366381334529 en\n",
      "@paulinaporizkov Being in my 60 , and seeing these gorgeous women . Reminds me to do my best to stay healthy. Because I see what it takes to attract them . Respect them and yourself . Stay active . Enjoy life\n",
      "1535674364053577731 en\n",
      "RT @therealtaliani1: Uncomfortable conversations make healthy relationships\n",
      "1535674363017433089 en\n",
      "stay healthy &amp; keep sane, Minions!\n",
      "It’s okayyyyy 👍🏼 https://t.co/5lCenVecND\n",
      "1535674350669529090 en\n",
      "I’ve seen this person post themselves in the tanning bed probably 5-6 times this week and I don’t know for sure but I’m like 100% sure that isn’t healthy lmao\n",
      "1535674342763372550 en\n",
      "RT @scotfoodjames: Evidence to date of post-Brexit farm policy:\n",
      "- crops rotting in fields\n",
      "- 1000s of healthy pigs culled\n",
      "- viability of foo…\n",
      "1535674340833902593 en\n",
      "I hope Jennie is happy and healthy cause that is what she deserves https://t.co/hgtB5KiW5Z\n",
      "1535674340749914112 en\n",
      "RT @PioneerWA: We provide reentry services to #ReturningCitizens https://t.co/rcOL6X3vTO so they have the opportunity to become healthy &amp; p…\n"
     ]
    }
   ],
   "source": [
    "# Search Recent Tweets\n",
    "\n",
    "# This endpoint/method returns Tweets from the last seven days\n",
    "\n",
    "response = client.search_recent_tweets(\"healthy\", tweet_fields=[\"lang\"])\n",
    "# The method returns a Response object, a named tuple with data, includes,\n",
    "# errors, and meta fields\n",
    "print(response.meta)\n",
    "\n",
    "# In this case, the data field of the Response returned is a list of Tweet\n",
    "# objects\n",
    "tweets = response.data\n",
    "\n",
    "# Each Tweet object has default ID and text fields\n",
    "for tweet in tweets:\n",
    "    print(tweet.id, tweet.lang)\n",
    "    print(tweet.text)\n",
    "\n",
    "# By default, this endpoint/method returns 10 results\n",
    "# You can retrieve up to 100 Tweets by specifying max_results\n",
    "# response = client.search_recent_tweets(\"Tweepy\", max_results=100)"
   ]
  },
  {
   "cell_type": "code",
   "execution_count": 6,
   "id": "7854dd3b",
   "metadata": {},
   "outputs": [
    {
     "name": "stdout",
     "output_type": "stream",
     "text": [
      "1477743324622581760\n"
     ]
    }
   ],
   "source": [
    "myData = client.get_user(username=\"blazaruk\")\n",
    "myID = myData.data.id\n",
    "print(myID)"
   ]
  },
  {
   "cell_type": "code",
   "execution_count": 7,
   "id": "c102742e",
   "metadata": {},
   "outputs": [
    {
     "name": "stdout",
     "output_type": "stream",
     "text": [
      "1535489748076142592\n",
      "@DrJayDrNo Sharing this just makes me hope Best-By-Betty finds you again.\n",
      "1535442827177431040\n",
      "@DrFrankTurek https://t.co/OmdZ8KNips\n",
      "1535360930975911936\n",
      "@Ri0t0iR Мы не используем машины для голосования Dominion в Канаде. Пожалуйста, поговорите со своим супервайзером, чтобы получить последний сценарий. Спасибо.\n",
      "1534760401979682816\n",
      "@16kbps @thingskatedid @selectric401 FTP from the lyrics server, through USENET groups, and a few times through Gopher.\n",
      "\n",
      "https://t.co/QFOI25YXv6\n",
      "1534684499669241857\n",
      "@DrJayDrNo Was she wrong though?  🤔\n",
      "1534022135122866176\n",
      "RT @Global_Smith: If any bands in Calgary need a drummer this summer keep Jaxon Smith in mind. @jaxon_drums \n",
      "\n",
      "He’s 17 but can get a permit…\n",
      "1534021673510264832\n",
      "RT @Morgan_C_Ross: 78 years ago today, June 6, 1944, James M. Doohan of Vancouver, led D Company of Royal Winnipeg Rifles ashore at Juno be…\n",
      "1533808124561215488\n",
      "RT @oldcanadaseries: 78 years ago today.  Canada lands on Juno Beach. #DDay https://t.co/JRfPVnsuKQ\n",
      "1533807093928427521\n",
      "RT @BullTabatha: After 30 months of work, today we launch the National Indigenous Economic Strategy. 107 Calls to Economic Prosperity. #nie…\n",
      "1533651560353308673\n",
      "RT @GaryMarcus: Gradient descent may boggle some minds, but its connection to biology has always been tenuous.   \n",
      "\n",
      "(And since when are 100…\n",
      "1533206872798289920\n",
      "@lizsteel199 Hurts your \"argument\" just a bit that Charest is not a member of any Parliament or Legislature right now. He has had no opportunity to make any such vote.\n",
      "\n",
      "But ya. Давай, продолжай притворяться, что ты канадец.\n",
      "1533109280680816642\n",
      "@DrJayDrNo You can join my office hours on Zoom if you're really looking to avoid your responsibilities. Only one other person here. Running out of small talk.  :)\n",
      "1532592130199236608\n",
      "RT @stevenstrogatz: An elevator in the physics building at UC Santa Barbara conveniently has an accelerometer in it. I couldn’t resist goin…\n",
      "1532575332057853952\n",
      "RT @TheRegister: Tim Hortons collected location data constantly, without consent, report finds https://t.co/KtmFFgtEwj\n",
      "1532222809039982592\n",
      "@weave1968 @Barbarajdurkin @ArtysHouse @JohnRLottJr @mistahoppa @JohnOz1900 @fishyfish67 @ALefty123 @Jonnyporkchop @RAM0667 @glinch72 @biffmack @DelusionsMass @MrAntiWoke @Anvndarnamn5 @cbeckj @BellRoniBell @girl_pilled @aSinister @tbone9070 @JonRFleming @NavyBrat59 @Neilcharles1450 @MinnesotaExpat @ShastaGecko @Guardia56241490 @Jaisans @Trumpbangskids @ChrisBBacon3 @David4677484957 @VictorJennpaul @6lennybravo @Lorrilala @Alfred_StatesX @BL20422822 @RustyAway @theDVSMarcus @MikeDel21893959 @insane_voice @EducatingTrump2 @MedBennett @ic_lib @SampsonRamm @DebraMMason1 @ItsTheAtmospher @DeniersAreDerp @GSwarthout @JeffBernard1 @Based_inReality @RobertVonB1 Undoubtedly the same freedoms I've lost here in Canada. But I'll defer to Barbara the expert, of course.\n",
      "1531864013079949312\n",
      "@kaimatai @metal_gent Ya ... I picked the first two as you quickly. Back to the Future is my third though. The first one was good but the other two just as easily forgotten.\n",
      "HP - agreed, the books were better but the later movies can stand an occasional rewatch.\n",
      "1531859649288237056\n",
      "@GodlessLiz Not only no vacation, but I've refused potential jobs that included occasional or potential business travel to the US. Not remotely worth the risk.\n",
      "1531415273672044545\n",
      "@lisakirbie @RealSamBurns Or a hidden camera.  🤔\n",
      "1531382547929698304\n",
      "Good grief, these people. https://t.co/Mjq1TBQiPz https://t.co/wfXYMpoQL2\n",
      "1531052634651561986\n",
      "RT @mcarducci96: Thank you to the @NrthCorridorUtd &amp; @COTU_SG for the support and this incredibly thoughtful gift. Some things go beyond th…\n"
     ]
    }
   ],
   "source": [
    "# Get User's Tweets\n",
    "\n",
    "# This endpoint/method returns Tweets composed by a single user, specified by\n",
    "# the requested user ID\n",
    "\n",
    "user_id = myID\n",
    "\n",
    "# By default, the 10 most recent Tweets will be returned\n",
    "# You can retrieve up to 100 Tweets by specifying max_results\n",
    "response = client.get_users_tweets(user_id, max_results=20)\n",
    "\n",
    "# response = client.get_users_tweets(user_id)\n",
    "\n",
    "# By default, only the ID and text fields of each Tweet will be returned\n",
    "for tweet in response.data:\n",
    "    print(tweet.id)\n",
    "    print(tweet.text)\n",
    "\n"
   ]
  },
  {
   "cell_type": "code",
   "execution_count": 8,
   "id": "8747f5e4",
   "metadata": {},
   "outputs": [
    {
     "name": "stdout",
     "output_type": "stream",
     "text": [
      "0\n",
      "107\n",
      "[1535652101153497088, datetime.datetime(2022, 6, 11, 15, 56, 6, tzinfo=datetime.timezone.utc)]\n"
     ]
    }
   ],
   "source": [
    "# Get User's Liked Tweets\n",
    "\n",
    "# This endpoint/method allows you to get information about a user’s liked \n",
    "# Tweets\n",
    "\n",
    "user_id = myID\n",
    "found_tweets = []\n",
    "print (len(found_tweets))\n",
    "\n",
    "# By default, only the ID and text fields of each Tweet will be returned\n",
    "# Additional fields can be retrieved using the tweet_fields parameter\n",
    "# response = client.get_liked_tweets(user_id, tweet_fields=[\"created_at\"], max_results=100)\n",
    "for response in tweepy.Paginator(client.get_liked_tweets, user_id, tweet_fields=[\"created_at\"], max_results=100, limit=5):\n",
    "#     print(response.meta)\n",
    "    if \"next_token\" in response.meta:\n",
    "        for tweet in response.data:\n",
    "            found_tweets.append([tweet.id, tweet.created_at])      \n",
    "    #         print(tweet.id, tweet.created_at)\n",
    "\n",
    "print (len(found_tweets))\n",
    "print(found_tweets[0])\n",
    "\n",
    "\n",
    "# response = tweepy.Paginator(client.get_liked_tweets(user_id), max_results=1000, limit=5)\n",
    "# print(response)\n",
    "# for tweet in response:\n",
    "#     print(tweet.id)"
   ]
  },
  {
   "cell_type": "code",
   "execution_count": 9,
   "id": "db47a251",
   "metadata": {},
   "outputs": [
    {
     "name": "stdout",
     "output_type": "stream",
     "text": [
      "Tweet: 1530959092331716610 is older than 1 day at 1124239.138224 seconds old\n",
      "1\n"
     ]
    }
   ],
   "source": [
    "# Build a list of tweets to target for unliking\n",
    "\n",
    "import datetime\n",
    "\n",
    "# print (now)\n",
    "\n",
    "threshold_days = 13\n",
    "threshold_seconds = 86400 * threshold_days\n",
    "\n",
    "unlike = []\n",
    "\n",
    "for tweet in found_tweets:\n",
    "    now = datetime.datetime.now(datetime.timezone.utc)    \n",
    "    elapsed = (now - tweet[1]).total_seconds()\n",
    "#     print(elapsed)\n",
    "\n",
    "\n",
    "    if elapsed > threshold_seconds:\n",
    "        print (\"Tweet: \" + str(tweet[0]) + \" is older than 1 day at \" + str(elapsed) + \" seconds old\")\n",
    "        unlike.append(tweet)\n",
    "\n",
    "print(len(unlike))"
   ]
  },
  {
   "cell_type": "code",
   "execution_count": null,
   "id": "3b5cac37",
   "metadata": {},
   "outputs": [],
   "source": [
    "# # show the details of the last liked tweet\n",
    "# print(unlike[len(unlike)-1])\n",
    "\n",
    "# # get the number of the tweet\n",
    "# target = unlike[len(unlike)-1][0]\n",
    "\n",
    "# # now let's unlike it - requires the user context\n",
    "# blockClient.unlike(target)"
   ]
  },
  {
   "cell_type": "code",
   "execution_count": 10,
   "id": "c58cb2d4",
   "metadata": {},
   "outputs": [],
   "source": [
    "#unlikes all the tweets in the unlike list\n",
    "for tweet in unlike:\n",
    "    # get the number of the tweet\n",
    "    target = tweet[0]\n",
    "\n",
    "    # now let's unlike it - requires the user context\n",
    "    blockClient.unlike(target)"
   ]
  },
  {
   "cell_type": "code",
   "execution_count": null,
   "id": "9941fcab",
   "metadata": {},
   "outputs": [],
   "source": [
    "# Get List of Blocked Users\n",
    "\n",
    "user_id = myID\n",
    "\n",
    "# user_auth must be false for OAuth 2.0 and only user context can be used for the client\n",
    "# So use the blockClient, with defaults\n",
    "response = blockClient.get_blocked(max_results=10)\n",
    "\n",
    "# for blocked_user in twitter_api.blocks():\n",
    "# \tprint(blocked_user.name)\n",
    "\n",
    "print((response))\n",
    "\n",
    "for user in response.data:\n",
    "    print(user)\n",
    "\n",
    "# for tweet in response.data:\n",
    "#     print(tweet.id, tweet.created_at)"
   ]
  },
  {
   "cell_type": "code",
   "execution_count": null,
   "id": "12cccb47",
   "metadata": {},
   "outputs": [],
   "source": []
  }
 ],
 "metadata": {
  "kernelspec": {
   "display_name": "Python 3 (ipykernel)",
   "language": "python",
   "name": "python3"
  },
  "language_info": {
   "codemirror_mode": {
    "name": "ipython",
    "version": 3
   },
   "file_extension": ".py",
   "mimetype": "text/x-python",
   "name": "python",
   "nbconvert_exporter": "python",
   "pygments_lexer": "ipython3",
   "version": "3.8.13"
  }
 },
 "nbformat": 4,
 "nbformat_minor": 5
}
